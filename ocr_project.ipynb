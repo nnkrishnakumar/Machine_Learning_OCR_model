{
 "cells": [
  {
   "cell_type": "code",
   "execution_count": 1,
   "metadata": {},
   "outputs": [
    {
     "name": "stdout",
     "output_type": "stream",
     "text": [
      "hello world\n"
     ]
    }
   ],
   "source": [
    "print(\"hello world\")"
   ]
  },
  {
   "cell_type": "code",
   "execution_count": 3,
   "metadata": {},
   "outputs": [],
   "source": [
    "# step1:\n",
    "# pip install pillow"
   ]
  },
  {
   "cell_type": "code",
   "execution_count": 6,
   "metadata": {},
   "outputs": [],
   "source": [
    "#step2\n",
    "# pip install opencv-python"
   ]
  },
  {
   "cell_type": "code",
   "execution_count": 7,
   "metadata": {},
   "outputs": [],
   "source": [
    "# Tesseract--> python tesseract is a python wrapper for Google's Tesseract-OCR"
   ]
  },
  {
   "cell_type": "code",
   "execution_count": 8,
   "metadata": {},
   "outputs": [],
   "source": [
    "# install terseract and set path using link : C:\\Program Files\\Tesseract-OCR"
   ]
  },
  {
   "cell_type": "code",
   "execution_count": 9,
   "metadata": {},
   "outputs": [],
   "source": [
    "#once set the path then run: pip install pytesseract"
   ]
  },
  {
   "cell_type": "code",
   "execution_count": 13,
   "metadata": {},
   "outputs": [],
   "source": [
    "from PIL import Image"
   ]
  },
  {
   "cell_type": "code",
   "execution_count": 25,
   "metadata": {},
   "outputs": [
    {
     "name": "stdout",
     "output_type": "stream",
     "text": [
      "<PIL.PngImagePlugin.PngImageFile image mode=RGB size=700x440 at 0x1DD38C3B190>\n"
     ]
    }
   ],
   "source": [
    "file_path=r\"C:\\Users\\Ducat\\Desktop\\ocr\\image1.png\"\n",
    "file=Image.open(file_path)\n",
    "print(file)      #It will gernerate so much metadata\n",
    "file.close()"
   ]
  },
  {
   "cell_type": "code",
   "execution_count": 26,
   "metadata": {},
   "outputs": [
    {
     "name": "stdout",
     "output_type": "stream",
     "text": [
      "(700, 440)\n"
     ]
    }
   ],
   "source": [
    "file_path=r\"C:\\Users\\Ducat\\Desktop\\ocr\\image1.png\"\n",
    "file1=Image.open(file_path)\n",
    "print(file1.size)\n",
    "file1.close()"
   ]
  },
  {
   "cell_type": "code",
   "execution_count": 27,
   "metadata": {},
   "outputs": [],
   "source": [
    "file_path=r\"C:\\Users\\Ducat\\Desktop\\ocr\\image1.png\"\n",
    "file2=Image.open(file_path)\n",
    "file2.show()      #Image to show\n",
    "file2.close()"
   ]
  },
  {
   "cell_type": "code",
   "execution_count": 37,
   "metadata": {},
   "outputs": [],
   "source": [
    "file_path=r\"C:\\Users\\Ducat\\Desktop\\ocr\\image1.png\"\n",
    "file3=Image.open(file_path)\n",
    "file3.rotate(180).show()\n",
    "file3.close()"
   ]
  },
  {
   "cell_type": "code",
   "execution_count": 39,
   "metadata": {},
   "outputs": [],
   "source": [
    "#to save file \n",
    "file_path=r\"C:\\Users\\Ducat\\Desktop\\ocr\\image1.png\"\n",
    "file3=Image.open(file_path)\n",
    "file3.save(\"new.jpg\")\n",
    "file3.close()"
   ]
  },
  {
   "cell_type": "code",
   "execution_count": 40,
   "metadata": {},
   "outputs": [],
   "source": [
    "# Preprocessing image for OCR"
   ]
  },
  {
   "cell_type": "code",
   "execution_count": 41,
   "metadata": {},
   "outputs": [],
   "source": [
    "# # Covered in this video\n",
    "\n",
    "# 1. Inverted Image\n",
    "\n",
    "# 2. Rescaling\n",
    "\n",
    "# 3. Binarization\n",
    "\n",
    "    # > conversion of an image into black and white\n",
    "\n",
    "# 4. Noise Removal\n",
    "\n",
    "    # Remove noise from an image to get better OCR result\n",
    "\n",
    "# 5. Dilation and Erosion\n",
    "\n",
    "# 6. Rotating/ Deskewing\n",
    "\n",
    "# 7. Removing Boarder\n",
    "\n",
    "# 8. Missing Boarder\n",
    "\n",
    "# 9. Transparency/ Alpha Channel"
   ]
  },
  {
   "cell_type": "code",
   "execution_count": null,
   "metadata": {},
   "outputs": [],
   "source": []
  }
 ],
 "metadata": {
  "kernelspec": {
   "display_name": "Python 3",
   "language": "python",
   "name": "python3"
  },
  "language_info": {
   "codemirror_mode": {
    "name": "ipython",
    "version": 3
   },
   "file_extension": ".py",
   "mimetype": "text/x-python",
   "name": "python",
   "nbconvert_exporter": "python",
   "pygments_lexer": "ipython3",
   "version": "3.11.2"
  },
  "orig_nbformat": 4
 },
 "nbformat": 4,
 "nbformat_minor": 2
}
